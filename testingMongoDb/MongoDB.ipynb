{
 "cells": [
  {
   "cell_type": "markdown",
   "id": "steady-smith",
   "metadata": {},
   "source": [
    "## Conection to MongoDatabase"
   ]
  },
  {
   "cell_type": "code",
   "execution_count": 1,
   "id": "thorough-operator",
   "metadata": {},
   "outputs": [],
   "source": [
    "from pymongo import MongoClient\n",
    "client = MongoClient()\n",
    "\n",
    "users = client.Tinder.users\n",
    "message = client.Tinder.message "
   ]
  },
  {
   "cell_type": "markdown",
   "id": "maritime-mandate",
   "metadata": {},
   "source": [
    "# GET"
   ]
  },
  {
   "cell_type": "markdown",
   "id": "nominated-vessel",
   "metadata": {},
   "source": [
    "Find users o user."
   ]
  },
  {
   "cell_type": "code",
   "execution_count": 2,
   "id": "rolled-philosophy",
   "metadata": {},
   "outputs": [],
   "source": [
    "#All users.\n",
    "def read_all_users():\n",
    "    filt = {}\n",
    "    proyect = {\"_id\":0}\n",
    "    result = users.find(filt,proyect)\n",
    "    return list(result)"
   ]
  },
  {
   "cell_type": "code",
   "execution_count": 3,
   "id": "bronze-parameter",
   "metadata": {},
   "outputs": [],
   "source": [
    "#read_all_users()"
   ]
  },
  {
   "cell_type": "code",
   "execution_count": 4,
   "id": "through-component",
   "metadata": {},
   "outputs": [],
   "source": [
    "#One user.\n",
    "def read_one_users(name):\n",
    "    filt = {\"Name\":str(name)}\n",
    "    proyect = {\"_id\":0}\n",
    "    result = users.find(filt,proyect)\n",
    "    return list(result)"
   ]
  },
  {
   "cell_type": "code",
   "execution_count": 5,
   "id": "handmade-planet",
   "metadata": {},
   "outputs": [],
   "source": [
    "#read_one_users(\"Ana\")"
   ]
  },
  {
   "cell_type": "markdown",
   "id": "fifth-timber",
   "metadata": {},
   "source": [
    "Find match,message or all messages."
   ]
  },
  {
   "cell_type": "code",
   "execution_count": 6,
   "id": "crucial-medication",
   "metadata": {},
   "outputs": [],
   "source": [
    "#Funtion to find all message.\n",
    "def read_all_message():\n",
    "    filt = {}\n",
    "    proyect = {\"_id\":0}\n",
    "    result = message.find(filt,proyect)\n",
    "    return list(result)"
   ]
  },
  {
   "cell_type": "code",
   "execution_count": 7,
   "id": "willing-interest",
   "metadata": {},
   "outputs": [],
   "source": [
    "#read_all_message()"
   ]
  },
  {
   "cell_type": "code",
   "execution_count": 8,
   "id": "proper-airport",
   "metadata": {},
   "outputs": [],
   "source": [
    "#Funtion to find by match.\n",
    "def read_one_match(match):\n",
    "    filt = {\"Match\":str(match)}\n",
    "    proyect = {\"_id\":0}\n",
    "    result = message.find(filt,proyect)\n",
    "    return list(result)"
   ]
  },
  {
   "cell_type": "code",
   "execution_count": 9,
   "id": "knowing-equity",
   "metadata": {
    "scrolled": true
   },
   "outputs": [],
   "source": [
    "#read_one_message(\"Javier y María\")"
   ]
  },
  {
   "cell_type": "code",
   "execution_count": 10,
   "id": "electrical-shareware",
   "metadata": {},
   "outputs": [],
   "source": [
    "#Funtion to find by message.\n",
    "def read_one_message(messa):\n",
    "    filt = {\"Message\":str(messa)}\n",
    "    proyect = {\"_id\":0}\n",
    "    result = message.find(filt,proyect)\n",
    "    return list(result)"
   ]
  },
  {
   "cell_type": "code",
   "execution_count": 11,
   "id": "included-dragon",
   "metadata": {},
   "outputs": [],
   "source": [
    "#one_message('You stood me up yesterday.  I waited for an hour and you never showed up.')"
   ]
  },
  {
   "cell_type": "markdown",
   "id": "equal-poster",
   "metadata": {},
   "source": [
    "# POST "
   ]
  },
  {
   "cell_type": "markdown",
   "id": "demographic-advertiser",
   "metadata": {},
   "source": [
    "Insert User."
   ]
  },
  {
   "cell_type": "code",
   "execution_count": 12,
   "id": "emotional-chambers",
   "metadata": {
    "scrolled": true
   },
   "outputs": [
    {
     "data": {
      "text/plain": [
       "<pymongo.results.InsertOneResult at 0x108ee5f40>"
      ]
     },
     "execution_count": 12,
     "metadata": {},
     "output_type": "execute_result"
    }
   ],
   "source": [
    "#Test to indroduce one user.\n",
    "dic = {\"Name\":\"Luna\",\n",
    "      \"Age\":\"40\",\n",
    "      \"Sex\":\"female\",\n",
    "      \"Looking for\":\"male\"}\n",
    "\n",
    "users.insert_one(dic)"
   ]
  },
  {
   "cell_type": "code",
   "execution_count": 13,
   "id": "going-crime",
   "metadata": {},
   "outputs": [],
   "source": [
    "#read_one_users(\"Luna\")"
   ]
  },
  {
   "cell_type": "code",
   "execution_count": 14,
   "id": "junior-overview",
   "metadata": {},
   "outputs": [],
   "source": [
    "#Insert user.\n",
    "def insert_users(name,age,sex,lookingfor):\n",
    "    dic = {\"Name\":f\"{name}\",\n",
    "      \"Age\":f\"{age}\",\n",
    "      \"Sex\":f\"{sex}\",\n",
    "      \"Looking for\":f\"{lookingfor}\"}\n",
    "    return users.insert_one(dic)"
   ]
  },
  {
   "cell_type": "code",
   "execution_count": 15,
   "id": "correct-astronomy",
   "metadata": {},
   "outputs": [],
   "source": [
    "#insert_users(\"Luna\",\"28\",\"male\",\"female\")\n",
    "#read_one_users(\"Luna\")"
   ]
  },
  {
   "cell_type": "markdown",
   "id": "outstanding-sheffield",
   "metadata": {},
   "source": [
    "Insert Message."
   ]
  },
  {
   "cell_type": "code",
   "execution_count": 16,
   "id": "static-economy",
   "metadata": {},
   "outputs": [
    {
     "data": {
      "text/plain": [
       "<pymongo.results.InsertOneResult at 0x108e41b80>"
      ]
     },
     "execution_count": 16,
     "metadata": {},
     "output_type": "execute_result"
    }
   ],
   "source": [
    "dic_mes = {\"Name\":\"Luna\",\n",
    "      \"Message\":\"Hola qué tal?\",\n",
    "      \"Match\":\"Luna y Pablo\"}\n",
    "message.insert_one(dic_mes)"
   ]
  },
  {
   "cell_type": "code",
   "execution_count": 17,
   "id": "opposed-mouth",
   "metadata": {},
   "outputs": [],
   "source": [
    "#read_one_message(\"Luna y Pablo\")"
   ]
  },
  {
   "cell_type": "code",
   "execution_count": 18,
   "id": "awful-remainder",
   "metadata": {},
   "outputs": [],
   "source": [
    "#Insert message.\n",
    "def insert_message(name,messa,match):\n",
    "    dic_mes = {\"Name\":f\"{name}\",\n",
    "      \"Message\":f\"{messa}\",\n",
    "      \"Match\":f\"{match}\"}\n",
    "    return message.insert_one(dic_mes)"
   ]
  },
  {
   "cell_type": "code",
   "execution_count": 26,
   "id": "round-helen",
   "metadata": {},
   "outputs": [],
   "source": [
    "#insert_message(\"Luna\",\"Hola qué tal\",\"Luna y Paola\")\n",
    "#read_one_message(\"Luna y Paola\")"
   ]
  },
  {
   "cell_type": "markdown",
   "id": "interior-grounds",
   "metadata": {},
   "source": [
    "# DELETE"
   ]
  },
  {
   "cell_type": "markdown",
   "id": "sunset-platform",
   "metadata": {},
   "source": [
    "Delete User."
   ]
  },
  {
   "cell_type": "code",
   "execution_count": 20,
   "id": "infectious-search",
   "metadata": {
    "scrolled": true
   },
   "outputs": [
    {
     "name": "stderr",
     "output_type": "stream",
     "text": [
      "<ipython-input-20-c961fab7ad9a>:6: DeprecationWarning: remove is deprecated. Use delete_one or delete_many instead.\n",
      "  users.remove(dic)\n"
     ]
    },
    {
     "data": {
      "text/plain": [
       "{'n': 0, 'ok': 1.0}"
      ]
     },
     "execution_count": 20,
     "metadata": {},
     "output_type": "execute_result"
    }
   ],
   "source": [
    "#Test to delete one user.\n",
    "dic = {\"Name\":\"Luna\",\n",
    "      \"Age\":\"28\",\n",
    "      \"Sex\":\"male\",\n",
    "      \"Looking for\":\"female\"}\n",
    "users.remove(dic)"
   ]
  },
  {
   "cell_type": "code",
   "execution_count": 27,
   "id": "indonesian-complexity",
   "metadata": {},
   "outputs": [],
   "source": [
    "#read_one_users(\"Luna\")"
   ]
  },
  {
   "cell_type": "code",
   "execution_count": 22,
   "id": "protective-enough",
   "metadata": {},
   "outputs": [],
   "source": [
    "#Delete user funtion.\n",
    "def delete_user(name,age,sex,lookingfor):\n",
    "    dic = {\"Name\":f\"{name}\",\n",
    "      \"Age\":f\"{age}\",\n",
    "      \"Sex\":f\"{sex}\",\n",
    "      \"Looking for\":f\"{lookingfor}\"}\n",
    "    return users.remove(dic)"
   ]
  },
  {
   "cell_type": "markdown",
   "id": "bulgarian-foundation",
   "metadata": {},
   "source": [
    "Delete Message."
   ]
  },
  {
   "cell_type": "code",
   "execution_count": 23,
   "id": "instructional-concord",
   "metadata": {},
   "outputs": [
    {
     "name": "stderr",
     "output_type": "stream",
     "text": [
      "<ipython-input-23-8cc659044e2c>:5: DeprecationWarning: remove is deprecated. Use delete_one or delete_many instead.\n",
      "  message.remove(dic_mes)\n"
     ]
    },
    {
     "data": {
      "text/plain": [
       "{'n': 4, 'ok': 1.0}"
      ]
     },
     "execution_count": 23,
     "metadata": {},
     "output_type": "execute_result"
    }
   ],
   "source": [
    "#Test to delete one message.\n",
    "dic_mes = {\"Name\":\"Luna\",\n",
    "      \"Message\":\"Hola qué tal\",\n",
    "      \"Match\":\"Luna y Paola\"}\n",
    "message.remove(dic_mes)"
   ]
  },
  {
   "cell_type": "code",
   "execution_count": null,
   "id": "informed-island",
   "metadata": {},
   "outputs": [],
   "source": [
    "#Delete message funtion.\n",
    "def delete_message(name,messa,match):\n",
    "    dic_mes = {\"Name\":f\"{name}\",\n",
    "      \"Message\":f\"{messa}\",\n",
    "      \"Match\":f\"{match}\"}\n",
    "    return message.remove(dic_mes)"
   ]
  }
 ],
 "metadata": {
  "kernelspec": {
   "display_name": "Python 3",
   "language": "python",
   "name": "python3"
  },
  "language_info": {
   "codemirror_mode": {
    "name": "ipython",
    "version": 3
   },
   "file_extension": ".py",
   "mimetype": "text/x-python",
   "name": "python",
   "nbconvert_exporter": "python",
   "pygments_lexer": "ipython3",
   "version": "3.9.1"
  }
 },
 "nbformat": 4,
 "nbformat_minor": 5
}
