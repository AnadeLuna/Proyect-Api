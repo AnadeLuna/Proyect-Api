{
 "cells": [
  {
   "cell_type": "markdown",
   "id": "steady-smith",
   "metadata": {},
   "source": [
    "## 1º Conection to MongoDatabase"
   ]
  },
  {
   "cell_type": "code",
   "execution_count": 1,
   "id": "thorough-operator",
   "metadata": {},
   "outputs": [],
   "source": [
    "from pymongo import MongoClient\n",
    "client = MongoClient()\n",
    "\n",
    "users = client.Tinder.users\n",
    "message = client.Tinder.message "
   ]
  },
  {
   "cell_type": "markdown",
   "id": "maritime-mandate",
   "metadata": {},
   "source": [
    "# GET"
   ]
  },
  {
   "cell_type": "markdown",
   "id": "nominated-vessel",
   "metadata": {},
   "source": [
    "## 2º Funtions to find in collection users."
   ]
  },
  {
   "cell_type": "code",
   "execution_count": 2,
   "id": "rolled-philosophy",
   "metadata": {},
   "outputs": [],
   "source": [
    "#All users.\n",
    "def read_all_users():\n",
    "    filt = {}\n",
    "    proyect = {\"_id\":0}\n",
    "    result = users.find(filt,proyect)\n",
    "    return list(result)"
   ]
  },
  {
   "cell_type": "code",
   "execution_count": 26,
   "id": "bronze-parameter",
   "metadata": {},
   "outputs": [],
   "source": [
    "#read_all_users()"
   ]
  },
  {
   "cell_type": "code",
   "execution_count": 4,
   "id": "through-component",
   "metadata": {},
   "outputs": [],
   "source": [
    "#One user.\n",
    "def read_one_users(name):\n",
    "    filt = {\"Name\":str(name)}\n",
    "    proyect = {\"_id\":0}\n",
    "    result = users.find(filt,proyect)\n",
    "    return list(result)"
   ]
  },
  {
   "cell_type": "code",
   "execution_count": 5,
   "id": "handmade-planet",
   "metadata": {},
   "outputs": [
    {
     "data": {
      "text/plain": [
       "[{'Name': 'Ana', 'Age': '24', 'Sex': 'Female', 'Looking for ': 'Male'}]"
      ]
     },
     "execution_count": 5,
     "metadata": {},
     "output_type": "execute_result"
    }
   ],
   "source": [
    "read_one_users(\"Ana\")"
   ]
  },
  {
   "cell_type": "markdown",
   "id": "fifth-timber",
   "metadata": {},
   "source": [
    "## 3º Funtions to find in collection message."
   ]
  },
  {
   "cell_type": "code",
   "execution_count": 6,
   "id": "crucial-medication",
   "metadata": {},
   "outputs": [],
   "source": [
    "#Funtion to find all message.\n",
    "def read_all_message():\n",
    "    filt = {}\n",
    "    proyect = {\"_id\":0}\n",
    "    result = message.find(filt,proyect)\n",
    "    return list(result)"
   ]
  },
  {
   "cell_type": "code",
   "execution_count": 25,
   "id": "willing-interest",
   "metadata": {},
   "outputs": [],
   "source": [
    "#read_all_message()"
   ]
  },
  {
   "cell_type": "code",
   "execution_count": 8,
   "id": "proper-airport",
   "metadata": {},
   "outputs": [],
   "source": [
    "#Funtion to find all the message in a match.\n",
    "def read_one_match(match):\n",
    "    filt = {\"Match\":str(match)}\n",
    "    proyect = {\"_id\":0}\n",
    "    result = message.find(filt,proyect)\n",
    "    return list(result)"
   ]
  },
  {
   "cell_type": "code",
   "execution_count": 27,
   "id": "knowing-equity",
   "metadata": {
    "scrolled": true
   },
   "outputs": [],
   "source": [
    "#read_one_message(\"Javier y María\")"
   ]
  },
  {
   "cell_type": "code",
   "execution_count": 29,
   "id": "electrical-shareware",
   "metadata": {},
   "outputs": [],
   "source": [
    "def read_one_message(messa):\n",
    "    filt = {\"Message\":str(messa)}\n",
    "    proyect = {\"_id\":0}\n",
    "    result = message.find(filt,proyect)\n",
    "    return list(result)"
   ]
  },
  {
   "cell_type": "code",
   "execution_count": 32,
   "id": "included-dragon",
   "metadata": {},
   "outputs": [],
   "source": [
    "#one_message('You stood me up yesterday.  I waited for an hour and you never showed up.')"
   ]
  },
  {
   "cell_type": "markdown",
   "id": "equal-poster",
   "metadata": {},
   "source": [
    "# POST "
   ]
  },
  {
   "cell_type": "code",
   "execution_count": 10,
   "id": "emotional-chambers",
   "metadata": {
    "scrolled": true
   },
   "outputs": [
    {
     "data": {
      "text/plain": [
       "<pymongo.results.InsertOneResult at 0x106ad7480>"
      ]
     },
     "execution_count": 10,
     "metadata": {},
     "output_type": "execute_result"
    }
   ],
   "source": [
    "#Test to indroduce one user.\n",
    "dic = {\"Name\":\"Luna\",\n",
    "      \"Age\":\"40\",\n",
    "      \"Sex\":\"female\",\n",
    "      \"Looking for\":\"male\"}\n",
    "\n",
    "users.insert_one(dic)"
   ]
  },
  {
   "cell_type": "code",
   "execution_count": 11,
   "id": "going-crime",
   "metadata": {},
   "outputs": [
    {
     "data": {
      "text/plain": [
       "[{'Name': 'Luna', 'Age': '40', 'Sex': 'female', 'Looking for': 'male'},\n",
       " {'Name': 'Luna', 'Age': '40', 'Sex': 'female', 'Looking for': 'male'}]"
      ]
     },
     "execution_count": 11,
     "metadata": {},
     "output_type": "execute_result"
    }
   ],
   "source": [
    "#Check the new user.\n",
    "read_one_users(\"Luna\")"
   ]
  },
  {
   "cell_type": "code",
   "execution_count": 12,
   "id": "junior-overview",
   "metadata": {},
   "outputs": [],
   "source": [
    "#Insert user.\n",
    "def insert_users(name,age,sex,lookingfor):\n",
    "    dic = {\"Name\":f\"{name}\",\n",
    "      \"Age\":f\"{age}\",\n",
    "      \"Sex\":f\"{sex}\",\n",
    "      \"Looking for\":f\"{lookingfor}\"}\n",
    "    return users.insert_one(dic)"
   ]
  },
  {
   "cell_type": "code",
   "execution_count": 13,
   "id": "correct-astronomy",
   "metadata": {},
   "outputs": [
    {
     "data": {
      "text/plain": [
       "[{'Name': 'Luna', 'Age': '40', 'Sex': 'female', 'Looking for': 'male'},\n",
       " {'Name': 'Luna', 'Age': '40', 'Sex': 'female', 'Looking for': 'male'},\n",
       " {'Name': 'Luna', 'Age': '28', 'Sex': 'male', 'Looking for': 'female'}]"
      ]
     },
     "execution_count": 13,
     "metadata": {},
     "output_type": "execute_result"
    }
   ],
   "source": [
    "insert_users(\"Luna\",\"28\",\"male\",\"female\")\n",
    "read_one_users(\"Luna\")"
   ]
  },
  {
   "cell_type": "code",
   "execution_count": 14,
   "id": "static-economy",
   "metadata": {},
   "outputs": [
    {
     "data": {
      "text/plain": [
       "<pymongo.results.InsertOneResult at 0x106b16300>"
      ]
     },
     "execution_count": 14,
     "metadata": {},
     "output_type": "execute_result"
    }
   ],
   "source": [
    "dic_mes = {\"Name\":\"Luna\",\n",
    "      \"Message\":\"Hola qué tal?\",\n",
    "      \"Match\":\"Luna y Pablo\"}\n",
    "message.insert_one(dic_mes)"
   ]
  },
  {
   "cell_type": "code",
   "execution_count": 15,
   "id": "opposed-mouth",
   "metadata": {},
   "outputs": [
    {
     "data": {
      "text/plain": [
       "[{'Name': 'Luna', 'Message': 'Hola qué tal?', 'Match': 'Luna y Pablo'},\n",
       " {'Name': 'Luna', 'Message': 'Hola qué tal?', 'Match': 'Luna y Pablo'},\n",
       " {'Name': 'Luna', 'Message': 'Hola qué tal?', 'Match': 'Luna y Pablo'},\n",
       " {'Name': 'Luna', 'Message': 'Hola qué tal?', 'Match': 'Luna y Pablo'},\n",
       " {'Name': 'Luna', 'Message': 'Hola qué tal?', 'Match': 'Luna y Pablo'}]"
      ]
     },
     "execution_count": 15,
     "metadata": {},
     "output_type": "execute_result"
    }
   ],
   "source": [
    "read_one_message(\"Luna y Pablo\")"
   ]
  },
  {
   "cell_type": "code",
   "execution_count": 16,
   "id": "awful-remainder",
   "metadata": {},
   "outputs": [],
   "source": [
    "#Insert message.\n",
    "def insert_message(name,messa,match):\n",
    "    dic_mes = {\"Name\":f\"{name}\",\n",
    "      \"Message\":f\"{messa}\",\n",
    "      \"Match\":f\"{match}\"}\n",
    "    return message.insert_one(dic_mes)"
   ]
  },
  {
   "cell_type": "code",
   "execution_count": 17,
   "id": "round-helen",
   "metadata": {},
   "outputs": [
    {
     "data": {
      "text/plain": [
       "[{'Name': 'Luna', 'Message': 'Hola qué tal', 'Match': 'Luna y Paola'},\n",
       " {'Name': 'Luna', 'Message': 'Hola qué tal', 'Match': 'Luna y Paola'},\n",
       " {'Name': 'Luna', 'Message': 'Hola qué tal', 'Match': 'Luna y Paola'}]"
      ]
     },
     "execution_count": 17,
     "metadata": {},
     "output_type": "execute_result"
    }
   ],
   "source": [
    "insert_message(\"Luna\",\"Hola qué tal\",\"Luna y Paola\")\n",
    "read_one_message(\"Luna y Paola\")"
   ]
  },
  {
   "cell_type": "markdown",
   "id": "interior-grounds",
   "metadata": {},
   "source": [
    "# DELETE"
   ]
  },
  {
   "cell_type": "code",
   "execution_count": 18,
   "id": "infectious-search",
   "metadata": {
    "scrolled": true
   },
   "outputs": [
    {
     "name": "stderr",
     "output_type": "stream",
     "text": [
      "<ipython-input-18-40213781cc21>:5: DeprecationWarning: remove is deprecated. Use delete_one or delete_many instead.\n",
      "  users.remove(dic)\n"
     ]
    },
    {
     "data": {
      "text/plain": [
       "{'n': 1, 'ok': 1.0}"
      ]
     },
     "execution_count": 18,
     "metadata": {},
     "output_type": "execute_result"
    }
   ],
   "source": [
    "#Test to delete one user.\n",
    "dic = {\"Name\":\"Luna\",\n",
    "      \"Age\":\"28\",\n",
    "      \"Sex\":\"male\",\n",
    "      \"Looking for\":\"female\"}\n",
    "users.remove(dic)"
   ]
  },
  {
   "cell_type": "code",
   "execution_count": 19,
   "id": "indonesian-complexity",
   "metadata": {},
   "outputs": [
    {
     "data": {
      "text/plain": [
       "[{'Name': 'Luna', 'Age': '40', 'Sex': 'female', 'Looking for': 'male'},\n",
       " {'Name': 'Luna', 'Age': '40', 'Sex': 'female', 'Looking for': 'male'}]"
      ]
     },
     "execution_count": 19,
     "metadata": {},
     "output_type": "execute_result"
    }
   ],
   "source": [
    "read_one_users(\"Luna\")"
   ]
  },
  {
   "cell_type": "code",
   "execution_count": 20,
   "id": "protective-enough",
   "metadata": {},
   "outputs": [],
   "source": [
    "#Delete user funtion.\n",
    "def delete_user(name,age,sex,lookingfor):\n",
    "    dic = {\"Name\":f\"{name}\",\n",
    "      \"Age\":f\"{age}\",\n",
    "      \"Sex\":f\"{sex}\",\n",
    "      \"Looking for\":f\"{lookingfor}\"}\n",
    "    return users.remove(dic)\n"
   ]
  },
  {
   "cell_type": "code",
   "execution_count": null,
   "id": "frank-deployment",
   "metadata": {},
   "outputs": [],
   "source": []
  },
  {
   "cell_type": "code",
   "execution_count": null,
   "id": "designed-dayton",
   "metadata": {},
   "outputs": [],
   "source": []
  },
  {
   "cell_type": "code",
   "execution_count": null,
   "id": "naughty-navigator",
   "metadata": {},
   "outputs": [],
   "source": []
  },
  {
   "cell_type": "code",
   "execution_count": null,
   "id": "muslim-overview",
   "metadata": {},
   "outputs": [],
   "source": []
  },
  {
   "cell_type": "code",
   "execution_count": null,
   "id": "pointed-alexander",
   "metadata": {},
   "outputs": [],
   "source": []
  },
  {
   "cell_type": "code",
   "execution_count": null,
   "id": "instructional-concord",
   "metadata": {},
   "outputs": [],
   "source": [
    "#Test to delete one message.\n",
    "dic_mes = {\"Name\":f\"{name}\",\n",
    "      \"Message\":f\"{messa}\",\n",
    "      \"Match\":f\"{match}\"}\n",
    "message.remove(dic_mes)"
   ]
  },
  {
   "cell_type": "code",
   "execution_count": null,
   "id": "informed-island",
   "metadata": {},
   "outputs": [],
   "source": []
  },
  {
   "cell_type": "code",
   "execution_count": null,
   "id": "worldwide-citizen",
   "metadata": {},
   "outputs": [],
   "source": []
  },
  {
   "cell_type": "code",
   "execution_count": null,
   "id": "handed-reaction",
   "metadata": {},
   "outputs": [],
   "source": []
  },
  {
   "cell_type": "code",
   "execution_count": 21,
   "id": "sharp-yacht",
   "metadata": {},
   "outputs": [],
   "source": [
    "#Delete message funtion.\n",
    "def delete_message(name,messa,match):\n",
    "    dic_mes = {\"Name\":f\"{name}\",\n",
    "      \"Message\":f\"{messa}\",\n",
    "      \"Match\":f\"{match}\"}\n",
    "    return message.remove(dic_mes)"
   ]
  },
  {
   "cell_type": "code",
   "execution_count": null,
   "id": "ordinary-fluid",
   "metadata": {},
   "outputs": [],
   "source": []
  }
 ],
 "metadata": {
  "kernelspec": {
   "display_name": "Python 3",
   "language": "python",
   "name": "python3"
  },
  "language_info": {
   "codemirror_mode": {
    "name": "ipython",
    "version": 3
   },
   "file_extension": ".py",
   "mimetype": "text/x-python",
   "name": "python",
   "nbconvert_exporter": "python",
   "pygments_lexer": "ipython3",
   "version": "3.9.1"
  }
 },
 "nbformat": 4,
 "nbformat_minor": 5
}
